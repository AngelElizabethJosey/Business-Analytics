{
  "nbformat": 4,
  "nbformat_minor": 0,
  "metadata": {
    "colab": {
      "name": "Untitled3.ipynb",
      "provenance": [],
      "collapsed_sections": [],
      "authorship_tag": "ABX9TyM22km3atXHtYsT/5X+rod0",
      "include_colab_link": true
    },
    "kernelspec": {
      "name": "python3",
      "display_name": "Python 3"
    },
    "language_info": {
      "name": "python"
    }
  },
  "cells": [
    {
      "cell_type": "markdown",
      "metadata": {
        "id": "view-in-github",
        "colab_type": "text"
      },
      "source": [
        "<a href=\"https://colab.research.google.com/github/AngelElizabethJosey/Python-Basics/blob/main/Untitled3.ipynb\" target=\"_parent\"><img src=\"https://colab.research.google.com/assets/colab-badge.svg\" alt=\"Open In Colab\"/></a>"
      ]
    },
    {
      "cell_type": "code",
      "source": [
        "x=int (input(\"enter sales value\"))\n",
        "print()\n",
        "i=x*10/100\n",
        "print(\"interest=\",i,\"\\n\")\n",
        "\n"
      ],
      "metadata": {
        "colab": {
          "base_uri": "https://localhost:8080/"
        },
        "id": "Bf51dHpjuu3M",
        "outputId": "1f207831-43d6-4ad6-8aae-29075ff7058e"
      },
      "execution_count": null,
      "outputs": [
        {
          "output_type": "stream",
          "name": "stdout",
          "text": [
            "enter sales value70000\n",
            "\n",
            "interest= 7000.0 \n",
            "\n"
          ]
        }
      ]
    },
    {
      "cell_type": "code",
      "source": [
        "d=0\n",
        "s=int(input(\"enter sales value:\"))\n",
        "if s==40000:\n",
        "  print(\"Your commission is :\", s*(10/100))\n",
        "if s<40000 and s>=35000:\n",
        "  print(\"your commission is :\", s*(5/100))\n",
        "if s<35000 and s>=32000:\n",
        "  print(\"your commission is :\", s*(1/100))\n",
        "if s<32000:\n",
        "  print(\"your commission is :\", s*(.1/100))\n",
        "if s>40000:\n",
        "  while s<=50000:\n",
        "        d=d+s\n",
        "        s=s+1\n",
        "        print(\"your commission is :\",s)\n",
        "if s>50000:\n",
        "  print(\"product can not be sold.\")\n"
      ],
      "metadata": {
        "id": "NRocE36Py7CL"
      },
      "execution_count": null,
      "outputs": []
    },
    {
      "cell_type": "code",
      "source": [
        ""
      ],
      "metadata": {
        "id": "POllHhoY5SBB"
      },
      "execution_count": null,
      "outputs": []
    }
  ]
}