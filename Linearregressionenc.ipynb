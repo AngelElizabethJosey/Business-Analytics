{
  "nbformat": 4,
  "nbformat_minor": 0,
  "metadata": {
    "colab": {
      "name": "Linearregressionenc.ipynb",
      "provenance": [],
      "authorship_tag": "ABX9TyP1jJTnGbAMMqne5LQmGTqn",
      "include_colab_link": true
    },
    "kernelspec": {
      "name": "python3",
      "display_name": "Python 3"
    },
    "language_info": {
      "name": "python"
    }
  },
  "cells": [
    {
      "cell_type": "markdown",
      "metadata": {
        "id": "view-in-github",
        "colab_type": "text"
      },
      "source": [
        "<a href=\"https://colab.research.google.com/github/AngelElizabethJosey/Business-Analytics/blob/main/Linearregressionenc.ipynb\" target=\"_parent\"><img src=\"https://colab.research.google.com/assets/colab-badge.svg\" alt=\"Open In Colab\"/></a>"
      ]
    },
    {
      "cell_type": "code",
      "execution_count": 1,
      "metadata": {
        "id": "B7Vm6c20L0Ov"
      },
      "outputs": [],
      "source": [
        "import numpy as np\n",
        "import matplotlib.pyplot as plt\n",
        "import pandas as pd\n"
      ]
    },
    {
      "cell_type": "code",
      "source": [
        "dataset = pd.read_csv('TTM.csv')\n"
      ],
      "metadata": {
        "id": "9qCSHK95L5UA"
      },
      "execution_count": 2,
      "outputs": []
    },
    {
      "cell_type": "code",
      "source": [
        "x = dataset.iloc[:, :-1].values\n"
      ],
      "metadata": {
        "id": "kXYQt4ieMcK0"
      },
      "execution_count": 3,
      "outputs": []
    },
    {
      "cell_type": "code",
      "source": [
        "x"
      ],
      "metadata": {
        "colab": {
          "base_uri": "https://localhost:8080/"
        },
        "id": "egOGt2hhMfD9",
        "outputId": "65eb8685-da2b-4a0c-b31a-c200354046ec"
      },
      "execution_count": 4,
      "outputs": [
        {
          "output_type": "execute_result",
          "data": {
            "text/plain": [
              "array([[  1.],\n",
              "       [  2.],\n",
              "       [  3.],\n",
              "       [  4.],\n",
              "       [  5.],\n",
              "       [  6.],\n",
              "       [  7.],\n",
              "       [  8.],\n",
              "       [  9.],\n",
              "       [ 10.],\n",
              "       [ 11.],\n",
              "       [ 12.],\n",
              "       [ 13.],\n",
              "       [ 14.],\n",
              "       [ 15.],\n",
              "       [ 16.],\n",
              "       [ 17.],\n",
              "       [ 18.],\n",
              "       [ 19.],\n",
              "       [ 20.],\n",
              "       [ 21.],\n",
              "       [ 22.],\n",
              "       [ 23.],\n",
              "       [ 24.],\n",
              "       [ 25.],\n",
              "       [ 26.],\n",
              "       [ 27.],\n",
              "       [ 28.],\n",
              "       [ 29.],\n",
              "       [ 30.],\n",
              "       [ 31.],\n",
              "       [ 32.],\n",
              "       [ 33.],\n",
              "       [ 34.],\n",
              "       [ 35.],\n",
              "       [ 36.],\n",
              "       [ 37.],\n",
              "       [ 38.],\n",
              "       [ 39.],\n",
              "       [ 40.],\n",
              "       [ 41.],\n",
              "       [ 42.],\n",
              "       [ 43.],\n",
              "       [ 44.],\n",
              "       [ 45.],\n",
              "       [ 46.],\n",
              "       [ 47.],\n",
              "       [ 48.],\n",
              "       [ 49.],\n",
              "       [ 50.],\n",
              "       [ 51.],\n",
              "       [ 52.],\n",
              "       [ 53.],\n",
              "       [ 54.],\n",
              "       [ 55.],\n",
              "       [ 56.],\n",
              "       [ 57.],\n",
              "       [ 58.],\n",
              "       [ 59.],\n",
              "       [ 60.],\n",
              "       [ 61.],\n",
              "       [ 62.],\n",
              "       [ 63.],\n",
              "       [ 64.],\n",
              "       [ 65.],\n",
              "       [ 66.],\n",
              "       [ 67.],\n",
              "       [ 68.],\n",
              "       [ 69.],\n",
              "       [ 70.],\n",
              "       [ 71.],\n",
              "       [ 72.],\n",
              "       [ 73.],\n",
              "       [ 74.],\n",
              "       [ 75.],\n",
              "       [ 76.],\n",
              "       [ 77.],\n",
              "       [ 78.],\n",
              "       [ 79.],\n",
              "       [ 80.],\n",
              "       [ 81.],\n",
              "       [ 82.],\n",
              "       [ 83.],\n",
              "       [ 84.],\n",
              "       [ 85.],\n",
              "       [ 86.],\n",
              "       [ 87.],\n",
              "       [ 88.],\n",
              "       [ 89.],\n",
              "       [ 90.],\n",
              "       [ 91.],\n",
              "       [ 92.],\n",
              "       [ 93.],\n",
              "       [ 94.],\n",
              "       [ 95.],\n",
              "       [ 96.],\n",
              "       [ 97.],\n",
              "       [ 98.],\n",
              "       [ 99.],\n",
              "       [100.],\n",
              "       [101.],\n",
              "       [102.],\n",
              "       [103.],\n",
              "       [104.],\n",
              "       [105.],\n",
              "       [106.],\n",
              "       [107.],\n",
              "       [108.],\n",
              "       [109.],\n",
              "       [110.],\n",
              "       [111.],\n",
              "       [112.],\n",
              "       [113.],\n",
              "       [114.],\n",
              "       [115.],\n",
              "       [116.],\n",
              "       [117.],\n",
              "       [118.],\n",
              "       [119.],\n",
              "       [120.],\n",
              "       [121.],\n",
              "       [122.],\n",
              "       [123.],\n",
              "       [124.],\n",
              "       [125.],\n",
              "       [126.],\n",
              "       [127.],\n",
              "       [128.],\n",
              "       [129.],\n",
              "       [130.],\n",
              "       [131.],\n",
              "       [132.],\n",
              "       [133.],\n",
              "       [134.],\n",
              "       [135.],\n",
              "       [136.],\n",
              "       [137.],\n",
              "       [138.],\n",
              "       [139.],\n",
              "       [140.],\n",
              "       [141.],\n",
              "       [142.],\n",
              "       [143.],\n",
              "       [144.],\n",
              "       [145.],\n",
              "       [146.],\n",
              "       [147.],\n",
              "       [148.],\n",
              "       [149.],\n",
              "       [150.],\n",
              "       [151.],\n",
              "       [152.],\n",
              "       [153.],\n",
              "       [154.],\n",
              "       [155.],\n",
              "       [156.],\n",
              "       [157.],\n",
              "       [158.],\n",
              "       [159.],\n",
              "       [160.],\n",
              "       [161.],\n",
              "       [162.],\n",
              "       [163.],\n",
              "       [164.],\n",
              "       [165.],\n",
              "       [166.],\n",
              "       [167.],\n",
              "       [168.],\n",
              "       [169.],\n",
              "       [170.],\n",
              "       [171.],\n",
              "       [172.],\n",
              "       [173.],\n",
              "       [174.],\n",
              "       [175.],\n",
              "       [176.],\n",
              "       [177.],\n",
              "       [178.],\n",
              "       [179.],\n",
              "       [180.],\n",
              "       [181.],\n",
              "       [182.],\n",
              "       [183.],\n",
              "       [184.],\n",
              "       [185.],\n",
              "       [186.],\n",
              "       [187.],\n",
              "       [188.],\n",
              "       [189.],\n",
              "       [190.],\n",
              "       [191.],\n",
              "       [192.],\n",
              "       [193.],\n",
              "       [194.],\n",
              "       [195.],\n",
              "       [196.],\n",
              "       [197.],\n",
              "       [198.],\n",
              "       [199.],\n",
              "       [200.],\n",
              "       [201.],\n",
              "       [202.],\n",
              "       [203.],\n",
              "       [204.],\n",
              "       [205.],\n",
              "       [206.],\n",
              "       [207.],\n",
              "       [208.],\n",
              "       [209.],\n",
              "       [210.],\n",
              "       [211.],\n",
              "       [212.],\n",
              "       [213.],\n",
              "       [214.],\n",
              "       [215.],\n",
              "       [216.],\n",
              "       [217.],\n",
              "       [218.],\n",
              "       [219.],\n",
              "       [220.],\n",
              "       [221.],\n",
              "       [222.],\n",
              "       [223.],\n",
              "       [224.],\n",
              "       [225.],\n",
              "       [226.],\n",
              "       [227.],\n",
              "       [228.],\n",
              "       [229.],\n",
              "       [230.],\n",
              "       [231.],\n",
              "       [232.],\n",
              "       [233.],\n",
              "       [234.],\n",
              "       [235.],\n",
              "       [236.],\n",
              "       [237.],\n",
              "       [238.],\n",
              "       [239.],\n",
              "       [240.],\n",
              "       [241.],\n",
              "       [242.],\n",
              "       [243.],\n",
              "       [244.],\n",
              "       [245.],\n",
              "       [246.],\n",
              "       [247.],\n",
              "       [248.],\n",
              "       [249.],\n",
              "       [250.],\n",
              "       [251.],\n",
              "       [252.]])"
            ]
          },
          "metadata": {},
          "execution_count": 4
        }
      ]
    },
    {
      "cell_type": "code",
      "source": [
        "y = dataset.iloc[:, -1].values\n",
        "y"
      ],
      "metadata": {
        "colab": {
          "base_uri": "https://localhost:8080/"
        },
        "id": "niPgldlZMkKV",
        "outputId": "0c5e2a5f-e85f-4ba6-cd38-3b71443a966c"
      },
      "execution_count": 5,
      "outputs": [
        {
          "output_type": "execute_result",
          "data": {
            "text/plain": [
              "array([19.84    , 19.459999, 19.08    , 18.799999, 18.48    , 18.879999,\n",
              "       19.15    , 19.059999, 19.18    , 19.889999, 19.67    , 20.09    ,\n",
              "       20.110001, 20.01    , 20.110001, 19.860001, 20.      , 20.379999,\n",
              "       20.440001, 20.67    , 20.950001, 20.940001, 20.91    , 19.93    ,\n",
              "       20.25    , 20.85    , 21.57    , 21.59    , 22.209999, 22.360001,\n",
              "       22.08    , 22.4     , 22.5     , 23.15    , 22.98    , 22.219999,\n",
              "       24.620001, 25.639999, 27.67    , 29.5     , 32.849998, 32.990002,\n",
              "       33.98    , 34.139999, 32.439999, 32.490002, 33.57    , 32.599998,\n",
              "       32.099998, 33.779999, 32.790001, 31.73    , 32.      , 32.759998,\n",
              "       32.439999, 31.73    , 32.709999, 32.779999, 33.639999, 34.290001,\n",
              "       33.91    , 33.419998, 33.689999, 33.580002, 34.490002, 35.099998,\n",
              "       33.740002, 32.990002, 32.32    , 32.900002, 32.299999, 30.15    ,\n",
              "       30.700001, 30.719999, 31.959999, 31.83    , 32.      , 31.      ,\n",
              "       31.98    , 32.5     , 32.490002, 32.619999, 32.240002, 31.709999,\n",
              "       31.940001, 32.18    , 30.16    , 29.24    , 29.879999, 30.93    ,\n",
              "       31.16    , 31.190001, 32.080002, 31.6     , 31.530001, 32.18    ,\n",
              "       33.279999, 32.77    , 32.389999, 32.5     , 32.810001, 33.380001,\n",
              "       33.639999, 34.360001, 34.470001, 33.77    , 33.889999, 34.669998,\n",
              "       34.      , 33.220001, 31.129999, 32.      , 32.200001, 32.59    ,\n",
              "       32.700001, 33.139999, 33.330002, 33.470001, 33.      , 32.639999,\n",
              "       32.779999, 32.709999, 33.41    , 33.5     , 32.959999, 31.15    ,\n",
              "       33.049999, 32.810001, 33.07    , 32.82    , 31.74    , 31.780001,\n",
              "       27.99    , 30.299999, 30.059999, 29.940001, 28.99    , 28.940001,\n",
              "       26.24    , 25.559999, 25.      , 26.540001, 26.43    , 27.620001,\n",
              "       26.360001, 26.469999, 27.83    , 28.01    , 28.      , 27.780001,\n",
              "       28.77    , 28.049999, 28.33    , 28.33    , 28.440001, 28.99    ,\n",
              "       28.690001, 28.17    , 28.68    , 29.530001, 30.      , 29.51    ,\n",
              "       29.25    , 29.309999, 29.57    , 28.870001, 28.049999, 27.91    ,\n",
              "       27.92    , 27.639999, 28.940001, 29.35    , 28.5     , 27.5     ,\n",
              "       28.139999, 27.99    , 28.02    , 28.48    , 27.950001, 28.15    ,\n",
              "       27.459999, 27.540001, 26.469999, 25.709999, 25.139999, 24.93    ,\n",
              "       23.85    , 25.82    , 26.25    , 27.540001, 26.809999, 25.67    ,\n",
              "       26.969999, 27.030001, 27.17    , 26.719999, 27.290001, 28.02    ,\n",
              "       28.690001, 29.      , 28.59    , 28.049999, 28.32    , 27.870001,\n",
              "       28.049999, 27.530001, 27.      , 25.719999, 25.92    , 26.35    ,\n",
              "       25.25    , 24.92    , 25.67    , 25.34    , 25.950001, 26.08    ,\n",
              "       26.709999, 26.540001, 26.469999, 25.74    , 25.85    , 25.65    ,\n",
              "       26.18    , 27.200001, 27.75    , 27.450001, 26.940001, 26.450001,\n",
              "       26.389999, 27.700001, 28.290001, 28.219999, 28.43    , 28.309999,\n",
              "       28.559999, 28.      , 27.41    , 27.57    , 27.870001, 28.49    ,\n",
              "       30.129999, 30.07    , 29.790001, 29.6     , 28.93    , 29.719999,\n",
              "       29.59    , 30.559999, 30.43    , 29.950001, 30.219999, 31.      ])"
            ]
          },
          "metadata": {},
          "execution_count": 5
        }
      ]
    },
    {
      "cell_type": "code",
      "source": [
        "from sklearn.model_selection import train_test_split\n",
        "x_train, x_test, y_train, y_test = train_test_split(x, y, test_size = 0.2, random_state = 0)\n"
      ],
      "metadata": {
        "id": "yIymCRVRMppG"
      },
      "execution_count": 6,
      "outputs": []
    },
    {
      "cell_type": "code",
      "source": [
        "from sklearn.linear_model import LinearRegression\n",
        "regressor = LinearRegression()\n",
        "regressor.fit(x_train, y_train)\n"
      ],
      "metadata": {
        "colab": {
          "base_uri": "https://localhost:8080/"
        },
        "id": "rVzl3amaMuCN",
        "outputId": "4921af6d-82b0-4453-e64d-b38ba97c9483"
      },
      "execution_count": 7,
      "outputs": [
        {
          "output_type": "execute_result",
          "data": {
            "text/plain": [
              "LinearRegression()"
            ]
          },
          "metadata": {},
          "execution_count": 7
        }
      ]
    },
    {
      "cell_type": "code",
      "source": [
        "y_pred = regressor.predict(x_test)\n"
      ],
      "metadata": {
        "id": "-2mWtXMuMxVH"
      },
      "execution_count": 8,
      "outputs": []
    },
    {
      "cell_type": "code",
      "source": [
        "plt.scatter(x_test, y_test, color = 'red')\n",
        "plt.scatter(x_train, y_train, color = 'green')\n",
        "plt.plot(x_test, y_pred, color = 'blue')\n",
        "plt.xlabel('Volume')\n",
        "plt.ylabel('Profit')\n",
        "plt.show()\n"
      ],
      "metadata": {
        "colab": {
          "base_uri": "https://localhost:8080/",
          "height": 279
        },
        "id": "K_DcbgTvMzqp",
        "outputId": "9cee6fcf-b6ad-4c08-c16f-12f96f8c1f2a"
      },
      "execution_count": 9,
      "outputs": [
        {
          "output_type": "display_data",
          "data": {
            "text/plain": [
              "<Figure size 432x288 with 1 Axes>"
            ],
            "image/png": "[encoded data removed]"
          },
          "metadata": {
            "needs_background": "light"
          }
        }
      ]
    },
    {
      "cell_type": "code",
      "source": [
        ""
      ],
      "metadata": {
        "id": "S0GBCaW9M2a9"
      },
      "execution_count": null,
      "outputs": []
    }
  ]
}